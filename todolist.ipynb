{
 "cells": [
  {
   "cell_type": "markdown",
   "id": "fa8521c8",
   "metadata": {},
   "source": [
    "### Making command line todo list  \n",
    "1. view list of task\n",
    "2. add a task\n",
    "3. save task\n",
    "4. delete task\n",
    "5. mark as a complete task\n",
    "6. Exit "
   ]
  },
  {
   "cell_type": "code",
   "execution_count": 1,
   "id": "7eb7ce79",
   "metadata": {},
   "outputs": [],
   "source": [
    "import os\n",
    "import pandas as pd\n",
    "def viewtask(tasks):\n",
    "    if not tasks:\n",
    "        print(\"No tasks found\")\n",
    "    else:\n",
    "        task_df = pd.DataFrame({'Task':tasks})\n",
    "        display(task_df)"
   ]
  },
  {
   "cell_type": "code",
   "execution_count": 2,
   "id": "a18cf173",
   "metadata": {},
   "outputs": [],
   "source": [
    "def addtask(tasks,new_tasks):\n",
    "    #adding task into file\n",
    "    #with open(file_path,'a') as file:\n",
    "        #file.write(new_tasks+'\\n')\n",
    "    tasks.append(new_tasks)\n",
    "    print(\"your task is successfully added\")\n",
    "\n"
   ]
  },
  {
   "cell_type": "code",
   "execution_count": 3,
   "id": "21f36ed7",
   "metadata": {},
   "outputs": [],
   "source": [
    "def save_task(file_path,tasks):\n",
    "    with open(file_path,'w')as file:\n",
    "        for task in tasks:\n",
    "            file.write(f\"{task}\\n\")\n"
   ]
  },
  {
   "cell_type": "code",
   "execution_count": 4,
   "id": "6ed0b779",
   "metadata": {},
   "outputs": [],
   "source": [
    "def delete(tasks,index):\n",
    "    if 1<=index<=len(tasks):\n",
    "        delete_task=tasks.pop(index-1)\n",
    "        print(f\"Your task {delete_task} is sucessfully deleted\")\n",
    "    else:\n",
    "        print(\"Invalid Task index\")\n",
    "    "
   ]
  },
  {
   "cell_type": "code",
   "execution_count": 5,
   "id": "c8927fd7",
   "metadata": {},
   "outputs": [],
   "source": [
    "def Update_task(tasks,index,update_task):\n",
    "    if 1<=index<=len(tasks):\n",
    "        tasks[index-1]=update_task\n",
    "        print(\"Your task is sucessfully updated\")\n",
    "    else:\n",
    "        print(\"Invalid Task index\")\n",
    "        \n",
    "        "
   ]
  },
  {
   "cell_type": "code",
   "execution_count": 6,
   "id": "b4a03369",
   "metadata": {},
   "outputs": [],
   "source": [
    "def load_task_from_file(file_path):\n",
    "    tasks=[]\n",
    "    if not os.path.exists(file_path):\n",
    "        #creating empty file\n",
    "        with open(file_path,'w') as file:\n",
    "            pass\n",
    "        # reading tasks from the file\n",
    "    with open(file_path,'r') as file:\n",
    "        tasks= file.read().splitlines()\n",
    "    return tasks\n",
    "            "
   ]
  },
  {
   "cell_type": "code",
   "execution_count": 7,
   "id": "7133d938",
   "metadata": {},
   "outputs": [],
   "source": [
    "def main():\n",
    "    file_path = \"todo_lits.txt\"\n",
    "    tasks = load_task_from_file(file_path)\n",
    "    print(\"\\t======= ToDoList ======\\t\\n\")\n",
    "    print(\"1.View the list of task added:\\n\")\n",
    "    print(\"2.Add the task\\n\")\n",
    "    print(\"3.Delete the task\\n\")\n",
    "    print(\"4.Update task\\n\")\n",
    "    print(\"5.Save and Exit\\n\")\n",
    "    while True:\n",
    "        try:\n",
    "            choice = int(input(\"enter your choice::\\t\"))\n",
    "            if choice == 1:\n",
    "                viewtask(tasks)\n",
    "            elif choice == 2:\n",
    "                new_task = input(\"enter the task to add: \")\n",
    "                addtask(tasks,new_task)\n",
    "            elif choice == 3:\n",
    "                index = int(input(\"enter the task index to delete it\"))\n",
    "                delete(tasks,index)\n",
    "                \n",
    "            elif choice == 4:\n",
    "                index = int(input(\"enter the task index to update: \"))\n",
    "                update_task= input(\"enter the updated task: \")\n",
    "                Update_task(tasks,index,update_task)\n",
    "            elif choice == 5:\n",
    "                save_task(file_path,tasks)\n",
    "                print(\"Your task is successfully saved \")\n",
    "                break\n",
    "            else:\n",
    "                print(\"Invalid choices\")\n",
    "        except ValueError :\n",
    "            print(\"Invalid choices\")\n",
    "        \n",
    "    "
   ]
  },
  {
   "cell_type": "code",
   "execution_count": 8,
   "id": "56c9019f",
   "metadata": {},
   "outputs": [
    {
     "name": "stdout",
     "output_type": "stream",
     "text": [
      "\t======= ToDoList ======\t\n",
      "\n",
      "1.View the list of task added:\n",
      "\n",
      "2.Add the task\n",
      "\n",
      "3.Delete the task\n",
      "\n",
      "4.Update task\n",
      "\n",
      "5.Save and Exit\n",
      "\n",
      "enter your choice::\t1\n"
     ]
    },
    {
     "data": {
      "text/html": [
       "<div>\n",
       "<style scoped>\n",
       "    .dataframe tbody tr th:only-of-type {\n",
       "        vertical-align: middle;\n",
       "    }\n",
       "\n",
       "    .dataframe tbody tr th {\n",
       "        vertical-align: top;\n",
       "    }\n",
       "\n",
       "    .dataframe thead th {\n",
       "        text-align: right;\n",
       "    }\n",
       "</style>\n",
       "<table border=\"1\" class=\"dataframe\">\n",
       "  <thead>\n",
       "    <tr style=\"text-align: right;\">\n",
       "      <th></th>\n",
       "      <th>Task</th>\n",
       "    </tr>\n",
       "  </thead>\n",
       "  <tbody>\n",
       "    <tr>\n",
       "      <th>0</th>\n",
       "      <td>going to school</td>\n",
       "    </tr>\n",
       "    <tr>\n",
       "      <th>1</th>\n",
       "      <td>eating choclate</td>\n",
       "    </tr>\n",
       "  </tbody>\n",
       "</table>\n",
       "</div>"
      ],
      "text/plain": [
       "              Task\n",
       "0  going to school\n",
       "1  eating choclate"
      ]
     },
     "metadata": {},
     "output_type": "display_data"
    },
    {
     "name": "stdout",
     "output_type": "stream",
     "text": [
      "enter your choice::\t2\n",
      "enter the task to add: 5\n",
      "your task is successfully added\n",
      "enter your choice::\t5\n",
      "Your task is successfully saved \n"
     ]
    }
   ],
   "source": [
    "if __name__==\"__main__\":\n",
    "    main()"
   ]
  },
  {
   "cell_type": "code",
   "execution_count": null,
   "id": "6dcba4d6",
   "metadata": {},
   "outputs": [],
   "source": [
    "import time\n",
    "\n",
    "def addtask(file_path, title, task):\n",
    "    start_time = time.time()  # Record the start time\n",
    "\n",
    "    with open(file_path, 'a') as file:\n",
    "        # Write title, task, and timer to the file\n",
    "        file.write(f\"Title: {title}\\n\")\n",
    "        file.write(f\"Task: {task}\\n\")\n",
    "        file.write(f\"Time: {time.strftime('%Y-%m-%d %H:%M:%S', time.localtime())}\\n\")\n",
    "        file.write(\"\\n\")  # Add a newline to separate entries\n",
    "\n",
    "    print(f\"Your task '{task}' is successfully added to the file.\")\n",
    "\n",
    "# Example usage:\n",
    "file_path = 'tasks.txt'\n",
    "title = input(\"Enter the title: \")\n",
    "task = input(\"Enter the new task: \")\n",
    "\n",
    "addtask(file_path, title, task)"
   ]
  },
  {
   "cell_type": "code",
   "execution_count": null,
   "id": "6196563f",
   "metadata": {},
   "outputs": [],
   "source": []
  }
 ],
 "metadata": {
  "kernelspec": {
   "display_name": "Python 3 (ipykernel)",
   "language": "python",
   "name": "python3"
  },
  "language_info": {
   "codemirror_mode": {
    "name": "ipython",
    "version": 3
   },
   "file_extension": ".py",
   "mimetype": "text/x-python",
   "name": "python",
   "nbconvert_exporter": "python",
   "pygments_lexer": "ipython3",
   "version": "3.9.13"
  }
 },
 "nbformat": 4,
 "nbformat_minor": 5
}
